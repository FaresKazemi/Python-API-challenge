{
 "cells": [
  {
   "cell_type": "markdown",
   "metadata": {},
   "source": [
    "# WeatherPy\n",
    "----\n",
    "\n",
    "#### Note\n",
    "* Instructions have been included for each segment. You do not have to follow them exactly, but they are included to help you think through the steps."
   ]
  },
  {
   "cell_type": "code",
   "execution_count": 2,
   "metadata": {
    "scrolled": true
   },
   "outputs": [],
   "source": [
    "import json\n",
    "import requests\n",
    "from key import weather_api_key\n",
    "import matplotlib.pyplot as plt\n",
    "import pandas as pd\n",
    "import numpy as np\n",
    "import time\n",
    "import scipy.stats as st\n",
    "from scipy.stats import linregress\n",
    "\n",
    "\n",
    "# Incorporated citipy to determine city based on latitude and longitude\n",
    "from citipy import citipy\n",
    "\n",
    "\n",
    "# Output File (CSV)\n",
    "output_data_file = \"output_data/cities.csv\"\n",
    "\n",
    "# Range of latitudes and longitudes for whole earth\n",
    "lat_range = (-90, 90)\n",
    "lng_range = (-180, 180)"
   ]
  },
  {
   "cell_type": "code",
   "execution_count": null,
   "metadata": {},
   "outputs": [],
   "source": []
  },
  {
   "cell_type": "markdown",
   "metadata": {},
   "source": [
    "## Generate Cities List"
   ]
  },
  {
   "cell_type": "code",
   "execution_count": 5,
   "metadata": {},
   "outputs": [
    {
     "name": "stdout",
     "output_type": "stream",
     "text": [
      "['punta arenas', 'merauke', 'vaini', 'albany', 'aksarka', 'yellowknife', 'sibiti', 'tuktoyaktuk', 'torbay', 'bluff', 'gold coast', 'san patricio', 'butaritari', 'ushuaia', 'taolanaro', 'thaton', 'nabire', 'bargal', 'porto seguro', 'chivay', 'yar-sale', 'mar del plata', 'mataura', 'kapaa', 'kununurra', 'arraial do cabo', 'hermanus', 'illoqqortoormiut', 'victoria', 'ambodifototra', 'hilo', 'bumba', 'saint-pacome', 'rikitea', 'north bend', 'sao filipe', 'avarua', 'hasaki', 'sao felix do xingu', 'bastia', 'cape town', 'eureka', 'utiroa', 'kuah', 'sitka', 'busselton', 'chupa', 'castro', 'georgetown', 'donskoye', 'praia da vitoria', 'touros', 'corinto', 'amderma', 'leningradskiy', 'ukiah', 'iqaluit', 'agadez', 'thompson', 'mugla', 'nizhneyansk', 'jamestown', 'barrow', 'kyra', 'saint george', 'bonavista', 'hobart', 'katobu', 'qaanaaq', 'namibe', 'mao', 'scottsburgh', 'fayaoue', 'henderson', 'la ronge', 'vila franca do campo', 'mandalgovi', 'mys shmidta', 'khatanga', 'bardiyah', 'neuquen', 'ribeira grande', 'tiksi', 'isangel', 'port alfred', 'saskylakh', 'acari', 'bredasdorp', 'sentyabrskiy', 'nikolskoye', 'chimbote', 'leshukonskoye', 'bethel', 'saint-pascal', 'talnakh', 'taitung', 'new norfolk', 'katsuura', 'holme', 'lebu', 'port elizabeth', 'klaksvik', 'ilulissat', 'lavrentiya', 'saint-philippe', 'acapulco', 'longyearbyen', 'los llanos de aridane', 'hithadhoo', 'innisfail', 'yuancheng', 'turmalina', 'cockburn town', 'barentsburg', 'dingle', 'east london', 'aulla', 'umarkot', 'vardo', 'starozhilovo', 'sabang', 'kovdor', 'mahon', 'kloulklubed', 'luderitz', 'kaniama', 'tungor', 'quebec', 'emba', 'caravelas', 'vangaindrano', 'provideniya', 'andover', 'anchorage', 'rocha', 'airai', 'san ramon', 'grand river south east', 'hurricane', 'ust-kulom', 'puerto ayora', 'piacabucu', 'guarabira', 'puerto escondido', 'aranos', 'necochea', 'san juan', 'kuche', 'cabo san lucas', 'ruatoria', 'ust-kamchatsk', 'carroll', 'takoradi', 'gulbene', 'huarmey', 'oistins', 'bengkulu', 'esperance', 'sao joaquim', 'aasiaat', 'kavieng', 'ambilobe', 'marsa matruh', 'kanniyakumari', 'korla', 'general roca', 'nyimba', 'yingzhong', 'cherskiy', 'dikson', 'ostrovnoy', 'banovce', 'lagoa', 'beringovskiy', 'san vito al tagliamento', 'hobyo', 'bambous virieux', 'paita', 'lincoln', 'ndele', 'atuona', 'oulainen', 'durgeli', 'baiyin', 'dauriya', 'olafsvik', 'sylvan lake', 'ornes', 'kattivakkam', 'galesong', 'ambatofinandrahana', 'ijaki', 'concepcion del uruguay', 'marck', 'manokwari', 'kidal', 'wanning', 'saucillo', 'ponta do sol', 'manado', 'axim', 'alto longa', 'narsipatnam', 'stephenville', 'broken hill', 'fengrun', 'codrington', 'doha', 'mount gambier', 'tsihombe', 'margate', 'halalo', 'nueva colombia', 'pevek', 'san quintin', 'pathanamthitta', 'saldanha', 'carnarvon', 'kazalinsk', 'guerrero negro', 'ye', 'salcininkai', 'tottori', 'grand gaube', 'acarau', 'upernavik', 'smithers', 'shirokiy', 'saint-augustin', 'labuhan', 'yagodnoye', 'kabinda', 'hamilton', 'ixtapa', 'longforgan', 'kushiro', 'fare', 'norman wells', 'presque isle', 'wagar', 'yayva', 'santander jimenez', 'juba', 'alta', 'anuradhapura', 'constitucion', 'qasigiannguit', 'baghdad', 'deer lake', 'namatanai', 'gemena', 'channel-port aux basques', 'mutata', 'donzdorf', 'tabarqah', 'menongue', 'souillac', 'maltahohe', 'umzimvubu', 'yulara', 'sisimiut', 'khani', 'chuy', 'mahebourg', 'erenhot', 'tasiilaq', 'vaitupu', 'tashtagol', 'henties bay', 'noumea', 'moron', 'beloha', 'barberton', 'pisco', 'rumia', 'palabuhanratu', 'toliary', 'vestmannaeyjar', 'eydhafushi', 'samalaeulu', 'roura', 'saint anthony', 'candawaga', 'stekolnyy', 'lysyanka', 'urmary', 'newcastle', 'riverton', 'ndjole', 'daru', 'harper', 'xichang', 'kpandae', 'charleston', 'paragominas', 'neustadt', 'richards bay', 'jacksonville', 'camana', 'hurghada', 'belushya guba', 'peniche', 'grootfontein', 'poshekhonye', 'fairbanks', 'vila velha', 'zharkent', 'ostersund', 'krasnoshchekovo', 'urucara', 'chokurdakh', 'plettenberg bay', 'maceio', 'kodiak', 'wa', 'port hawkesbury', 'bougouni', 'coahuayana', 'lulea', 'cidreira', 'hami', 'clyde river', 'port lincoln', 'areka', 'arlit', 'igarka', 'narsaq', 'lorengau', 'warrington', 'krasnoselkup', 'fortuna', 'umm durman', 'sinnamary', 'nome', 'ingham', 'cayenne', 'vao', 'matara', 'awbari', 'port hedland', 'auki', 'karratha', 'itoman', 'alofi', 'morehead', 'nanortalik', 'nizhniy kuranakh', 'gorom-gorom', 'sorland', 'biak', 'gwadar', 'xining', 'mahajanga', 'wolmaranstad', 'hvammstangi', 'tshikapa', 'werota', 'sergeyevka', 'rusape', 'kieta', 'piedecuesta', 'lolua', 'taltal', 'port blair', 'kamaishi', 'nagaur', 'indiaroba', 'hofn', 'talara', 'petersburg', 'sheridan', 'taoudenni', 'solsvik', 'tuatapere', 'paamiut', 'tarbagatay', 'gimli', 'nizhniy tsasuchey', 'attawapiskat', 'karlshamn', 'pemba', 'adrar', 'teya', 'xiongzhou', 'aklavik', 'kez', 'kawana waters', 'tumannyy', 'tommot', 'yerbogachen', 'otane', 'abonnema', 'coari', 'sur', 'college', 'guozhen', 'geraldton', 'ancud', 'bathsheba', 'vakhrushev', 'napasar', 'honiara', 'vostok', 'teahupoo', 'high level', 'moerai', 'kristiinankaupunki', 'kshenskiy', 'severo-kurilsk', 'sept-iles', 'crab hill', 'samusu', 'koupela', 'hambantota', 'zmeinogorsk', 'pundaguitan', 'san cristobal', 'polunochnoye', 'sioux lookout', 'babanusah', 'tyler', 'saleaula', 'kruisfontein', 'massaguet', 'tura', 'hualmay', 'benguela', 'dergachi', 'armacao dos buzios', 'husavik', 'marawi', 'luau', 'yangambi', 'grajau', 'palana', 'dipkarpaz', 'wewak', 'tual', 'barguzin', 'kudahuvadhoo', 'leopold', 'charters towers', 'fort nelson', 'faanui', 'port keats', 'kaeo', 'punta alta', 'beidao', 'walvis bay', 'camacha', 'shubarkuduk', 'kaitangata', 'olhao', 'nortelandia', 'sorvag', 'chegdomyn', 'oksfjord', 'rio gallegos', 'xingcheng', 'tilichiki', 'pak phanang', 'aripuana', 'salalah', 'bilibino', 'shancheng', 'nara', 'grong', 'birjand', 'nova londrina', 'grindavik', 'mount isa', 'pont-audemer', 'svetlogorsk', 'montepuez', 'requena', 'sobolevo', 'louis trichardt', 'ponnani', 'szubin', 'kisesa', 'ubatuba', 'the valley', 'carbonia', 'lapeer', 'berlevag', 'muisne', 'yigou', 'guane', 'almeirim', 'mantua', 'jalingo', 'sola', 'dharchula', 'baykit', 'burkhala', 'uglegorsk', 'port augusta', 'careiro da varzea', 'luanda', 'juneau', 'tukrah', 'khalkhal', 'zolotinka', 'luba', 'berdigestyakh', 'yumen', 'ankazoabo', 'zhoucheng', 'port hardy', 'altagracia de orituco', 'fonte boa', 'ananindeua', 'ploemeur', 'tautira', 'amazar', 'san ignacio', 'cairns', 'yashan', 'galiwinku', 'saltpond', 'soto la marina', 'kangaatsiaq', 'mananjary', 'chifeng', 'sarti', 'bonfim', 'salinopolis', 'cortez', 'glossa', 'kanigoro', 'burnie', 'behbahan', 'kahului', 'tongliao', 'jacareacanga', 'asau', 'sloboda', 'khlung', 'skalistyy', 'andevoranto', 'dosso', 'longhua', 'waterloo', 'broome', 'panaba', 'urambo', 'korablino', 'flinders', 'liverpool', 'price', 'potsdam', 'nuevo progreso', 'sarai alamgir', 'gaoua', 'faya', 'calamar', 'aswan', 'jiangyou', 'villazon', 'marsh harbour', 'karasburg', 'rio grande', 'lagos', 'meyungs', 'joura', 'buta', 'omboue', 'chom bung', 'nalut', 'kijang', 'rasskazovo', 'temaraia', 'rota', 'mergui', 'tomatlan', 'padang', 'raton', 'saint-pierre', 'spasskoye', 'mackay', 'jashpurnagar', 'chunskiy', 'alugan', 'hovd', 'shumskiy', 'soe', 'nieves', 'zyryanka', 'rockland', 'sciacca', 'morant bay', 'lethem', 'isla mujeres']\n"
     ]
    },
    {
     "data": {
      "text/plain": [
       "593"
      ]
     },
     "execution_count": 5,
     "metadata": {},
     "output_type": "execute_result"
    }
   ],
   "source": [
    "# List for holding lat_lngs and cities\n",
    "lat_lngs = []\n",
    "cities = []\n",
    "\n",
    "# Create a set of random lat and lng combinations\n",
    "lats = np.random.uniform(low=-90.000, high=90.000, size=1500)\n",
    "lngs = np.random.uniform(low=-180.000, high=180.000, size=1500)\n",
    "lat_lngs = zip(lats, lngs)\n",
    "\n",
    "# Identify nearest city for each lat, lng combination\n",
    "for lat_lng in lat_lngs:\n",
    "    city = citipy.nearest_city(lat_lng[0], lat_lng[1]).city_name\n",
    "    \n",
    "    # If the city is unique, then add it to a our cities list\n",
    "    if city not in cities:\n",
    "        cities.append(city)\n",
    "\n",
    "# Print the city count to confirm sufficient count\n",
    "#print(cities)\n",
    "len(cities)"
   ]
  },
  {
   "cell_type": "markdown",
   "metadata": {},
   "source": [
    "### Perform API Calls\n",
    "* Perform a weather check on each city using a series of successive API calls.\n",
    "* Include a print log of each city as it'sbeing processed (with the city number and city name).\n"
   ]
  },
  {
   "cell_type": "code",
   "execution_count": 7,
   "metadata": {
    "scrolled": true
   },
   "outputs": [
    {
     "data": {
      "text/html": [
       "<div>\n",
       "<style scoped>\n",
       "    .dataframe tbody tr th:only-of-type {\n",
       "        vertical-align: middle;\n",
       "    }\n",
       "\n",
       "    .dataframe tbody tr th {\n",
       "        vertical-align: top;\n",
       "    }\n",
       "\n",
       "    .dataframe thead th {\n",
       "        text-align: right;\n",
       "    }\n",
       "</style>\n",
       "<table border=\"1\" class=\"dataframe\">\n",
       "  <thead>\n",
       "    <tr style=\"text-align: right;\">\n",
       "      <th></th>\n",
       "      <th>City</th>\n",
       "    </tr>\n",
       "  </thead>\n",
       "  <tbody>\n",
       "    <tr>\n",
       "      <th>0</th>\n",
       "      <td>punta arenas</td>\n",
       "    </tr>\n",
       "    <tr>\n",
       "      <th>1</th>\n",
       "      <td>merauke</td>\n",
       "    </tr>\n",
       "    <tr>\n",
       "      <th>2</th>\n",
       "      <td>vaini</td>\n",
       "    </tr>\n",
       "    <tr>\n",
       "      <th>3</th>\n",
       "      <td>albany</td>\n",
       "    </tr>\n",
       "    <tr>\n",
       "      <th>4</th>\n",
       "      <td>aksarka</td>\n",
       "    </tr>\n",
       "    <tr>\n",
       "      <th>...</th>\n",
       "      <td>...</td>\n",
       "    </tr>\n",
       "    <tr>\n",
       "      <th>588</th>\n",
       "      <td>rockland</td>\n",
       "    </tr>\n",
       "    <tr>\n",
       "      <th>589</th>\n",
       "      <td>sciacca</td>\n",
       "    </tr>\n",
       "    <tr>\n",
       "      <th>590</th>\n",
       "      <td>morant bay</td>\n",
       "    </tr>\n",
       "    <tr>\n",
       "      <th>591</th>\n",
       "      <td>lethem</td>\n",
       "    </tr>\n",
       "    <tr>\n",
       "      <th>592</th>\n",
       "      <td>isla mujeres</td>\n",
       "    </tr>\n",
       "  </tbody>\n",
       "</table>\n",
       "<p>593 rows × 1 columns</p>\n",
       "</div>"
      ],
      "text/plain": [
       "             City\n",
       "0    punta arenas\n",
       "1         merauke\n",
       "2           vaini\n",
       "3          albany\n",
       "4         aksarka\n",
       "..            ...\n",
       "588      rockland\n",
       "589       sciacca\n",
       "590    morant bay\n",
       "591        lethem\n",
       "592  isla mujeres\n",
       "\n",
       "[593 rows x 1 columns]"
      ]
     },
     "execution_count": 7,
     "metadata": {},
     "output_type": "execute_result"
    }
   ],
   "source": [
    "base_url = \"https://api.openweathermap.org/data/2.5/weather?\"\n",
    "\n",
    "record = 0\n",
    "sets = 0\n",
    "\n",
    "weather_df = pd.DataFrame({\"City\": cities})\n",
    "weather_df[\"Country\"]=\"\"\n",
    "weather_df[\"Date\"]= \"\"\n",
    "weather_df[\"Latitude\"] = \"\"\n",
    "weather_df[\"Longitude\"] = \"\"\n",
    "weather_df[\"Cloudiness (%)\"] = \"\"\n",
    "weather_df[\"Windspeed %\"] = \"\"\n",
    "weather_df[\"Max temp (F)\"] = \"\"\n",
    "weather_df[\"Humidity %\"] = \"\"\n"
   ]
  },
  {
   "cell_type": "markdown",
   "metadata": {},
   "source": [
    "### Convert Raw Data to DataFrame\n",
    "* Export the city data into a .csv.\n",
    "* Display the DataFrame"
   ]
  },
  {
   "cell_type": "code",
   "execution_count": null,
   "metadata": {},
   "outputs": [],
   "source": []
  },
  {
   "cell_type": "code",
   "execution_count": null,
   "metadata": {},
   "outputs": [],
   "source": []
  },
  {
   "cell_type": "markdown",
   "metadata": {},
   "source": [
    "## Inspect the data and remove the cities where the humidity > 100%.\n",
    "----\n",
    "Skip this step if there are no cities that have humidity > 100%. "
   ]
  },
  {
   "cell_type": "code",
   "execution_count": null,
   "metadata": {},
   "outputs": [],
   "source": []
  },
  {
   "cell_type": "code",
   "execution_count": null,
   "metadata": {},
   "outputs": [],
   "source": [
    "#  Get the indices of cities that have humidity over 100%.\n"
   ]
  },
  {
   "cell_type": "code",
   "execution_count": null,
   "metadata": {},
   "outputs": [],
   "source": [
    "# Make a new DataFrame equal to the city data to drop all humidity outliers by index.\n",
    "# Passing \"inplace=False\" will make a copy of the city_data DataFrame, which we call \"clean_city_data\".\n"
   ]
  },
  {
   "cell_type": "code",
   "execution_count": null,
   "metadata": {},
   "outputs": [],
   "source": [
    "\n"
   ]
  },
  {
   "cell_type": "markdown",
   "metadata": {},
   "source": [
    "## Plotting the Data\n",
    "* Use proper labeling of the plots using plot titles (including date of analysis) and axes labels.\n",
    "* Save the plotted figures as .pngs."
   ]
  },
  {
   "cell_type": "markdown",
   "metadata": {},
   "source": [
    "## Latitude vs. Temperature Plot"
   ]
  },
  {
   "cell_type": "code",
   "execution_count": null,
   "metadata": {
    "scrolled": true
   },
   "outputs": [],
   "source": []
  },
  {
   "cell_type": "markdown",
   "metadata": {},
   "source": [
    "## Latitude vs. Humidity Plot"
   ]
  },
  {
   "cell_type": "code",
   "execution_count": null,
   "metadata": {},
   "outputs": [],
   "source": []
  },
  {
   "cell_type": "markdown",
   "metadata": {},
   "source": [
    "## Latitude vs. Cloudiness Plot"
   ]
  },
  {
   "cell_type": "code",
   "execution_count": null,
   "metadata": {},
   "outputs": [],
   "source": []
  },
  {
   "cell_type": "markdown",
   "metadata": {},
   "source": [
    "## Latitude vs. Wind Speed Plot"
   ]
  },
  {
   "cell_type": "code",
   "execution_count": null,
   "metadata": {},
   "outputs": [],
   "source": []
  },
  {
   "cell_type": "markdown",
   "metadata": {},
   "source": [
    "## Linear Regression"
   ]
  },
  {
   "cell_type": "code",
   "execution_count": null,
   "metadata": {},
   "outputs": [],
   "source": []
  },
  {
   "cell_type": "markdown",
   "metadata": {},
   "source": [
    "####  Northern Hemisphere - Max Temp vs. Latitude Linear Regression"
   ]
  },
  {
   "cell_type": "code",
   "execution_count": null,
   "metadata": {},
   "outputs": [],
   "source": []
  },
  {
   "cell_type": "markdown",
   "metadata": {},
   "source": [
    "####  Southern Hemisphere - Max Temp vs. Latitude Linear Regression"
   ]
  },
  {
   "cell_type": "code",
   "execution_count": null,
   "metadata": {},
   "outputs": [],
   "source": []
  },
  {
   "cell_type": "markdown",
   "metadata": {},
   "source": [
    "####  Northern Hemisphere - Humidity (%) vs. Latitude Linear Regression"
   ]
  },
  {
   "cell_type": "code",
   "execution_count": null,
   "metadata": {},
   "outputs": [],
   "source": []
  },
  {
   "cell_type": "markdown",
   "metadata": {},
   "source": [
    "####  Southern Hemisphere - Humidity (%) vs. Latitude Linear Regression"
   ]
  },
  {
   "cell_type": "code",
   "execution_count": null,
   "metadata": {},
   "outputs": [],
   "source": []
  },
  {
   "cell_type": "markdown",
   "metadata": {},
   "source": [
    "####  Northern Hemisphere - Cloudiness (%) vs. Latitude Linear Regression"
   ]
  },
  {
   "cell_type": "code",
   "execution_count": null,
   "metadata": {},
   "outputs": [],
   "source": []
  },
  {
   "cell_type": "markdown",
   "metadata": {},
   "source": [
    "####  Southern Hemisphere - Cloudiness (%) vs. Latitude Linear Regression"
   ]
  },
  {
   "cell_type": "code",
   "execution_count": null,
   "metadata": {},
   "outputs": [],
   "source": []
  },
  {
   "cell_type": "markdown",
   "metadata": {},
   "source": [
    "####  Northern Hemisphere - Wind Speed (mph) vs. Latitude Linear Regression"
   ]
  },
  {
   "cell_type": "code",
   "execution_count": null,
   "metadata": {},
   "outputs": [],
   "source": []
  },
  {
   "cell_type": "markdown",
   "metadata": {},
   "source": [
    "####  Southern Hemisphere - Wind Speed (mph) vs. Latitude Linear Regression"
   ]
  },
  {
   "cell_type": "code",
   "execution_count": null,
   "metadata": {},
   "outputs": [],
   "source": []
  },
  {
   "cell_type": "code",
   "execution_count": null,
   "metadata": {},
   "outputs": [],
   "source": []
  }
 ],
 "metadata": {
  "anaconda-cloud": {},
  "kernel_info": {
   "name": "python3"
  },
  "kernelspec": {
   "display_name": "Python 3",
   "language": "python",
   "name": "python3"
  },
  "language_info": {
   "codemirror_mode": {
    "name": "ipython",
    "version": 3
   },
   "file_extension": ".py",
   "mimetype": "text/x-python",
   "name": "python",
   "nbconvert_exporter": "python",
   "pygments_lexer": "ipython3",
   "version": "3.6.10"
  },
  "latex_envs": {
   "LaTeX_envs_menu_present": true,
   "autoclose": false,
   "autocomplete": true,
   "bibliofile": "biblio.bib",
   "cite_by": "apalike",
   "current_citInitial": 1,
   "eqLabelWithNumbers": true,
   "eqNumInitial": 1,
   "hotkeys": {
    "equation": "Ctrl-E",
    "itemize": "Ctrl-I"
   },
   "labels_anchors": false,
   "latex_user_defs": false,
   "report_style_numbering": false,
   "user_envs_cfg": false
  },
  "nteract": {
   "version": "0.12.3"
  }
 },
 "nbformat": 4,
 "nbformat_minor": 2
}
